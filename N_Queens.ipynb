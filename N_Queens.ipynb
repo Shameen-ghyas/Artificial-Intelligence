{
  "nbformat": 4,
  "nbformat_minor": 0,
  "metadata": {
    "colab": {
      "provenance": [],
      "authorship_tag": "ABX9TyMRjbtSCt0mdZBFLCr/+3Z1",
      "include_colab_link": true
    },
    "kernelspec": {
      "name": "python3",
      "display_name": "Python 3"
    },
    "language_info": {
      "name": "python"
    }
  },
  "cells": [
    {
      "cell_type": "markdown",
      "metadata": {
        "id": "view-in-github",
        "colab_type": "text"
      },
      "source": [
        "<a href=\"https://colab.research.google.com/github/Shameen-ghyas/Artificial-Intelligence/blob/main/N_Queens.ipynb\" target=\"_parent\"><img src=\"https://colab.research.google.com/assets/colab-badge.svg\" alt=\"Open In Colab\"/></a>"
      ]
    },
    {
      "cell_type": "code",
      "execution_count": null,
      "metadata": {
        "id": "eMS8y7oSpxHv"
      },
      "outputs": [],
      "source": [
        "import matplotlib.pyplot as plt\n",
        "import numpy as np\n",
        "import time"
      ]
    },
    {
      "cell_type": "code",
      "source": [
        "steps = 0\n",
        "def solveQueens(n):\n",
        "    global steps\n",
        "    steps = 0\n",
        "    row = set()\n",
        "    posDiag = set() #r + c\n",
        "    negDiag = set() #r - c\n",
        "    res = []\n",
        "    board = [[\".\"]*n for _ in range(n)]\n",
        "    initial_domains = {}\n",
        "    for c in range(n):\n",
        "        initial_domains[c] = set(range(n))\n",
        "\n",
        "\n",
        "    def backtrack(c, domains):\n",
        "        global steps\n",
        "        steps +=1\n",
        "        if c == n:\n",
        "            copy = [\"\".join(row) for row in board]\n",
        "            res.append(copy)\n",
        "            return\n",
        "\n",
        "        for r in list(domains[c]):\n",
        "            if r in row or (r+c) in posDiag or (r-c) in negDiag:\n",
        "                continue\n",
        "\n",
        "            row.add(r)\n",
        "            posDiag.add(r + c)\n",
        "            negDiag.add(r-c)\n",
        "            board[r][c] = \"Q\"\n",
        "\n",
        "            # Forward Checking\n",
        "            copy_of_domains = {}\n",
        "            for key, value in domains.items():\n",
        "              copy_of_domains[key] = set(value)\n",
        "\n",
        "            domain_pruned = True\n",
        "            for next_c in range(c + 1, n):\n",
        "                to_remove = set()\n",
        "                for next_r in domains[next_c]:\n",
        "                    if next_r == r or (next_r + next_c) == (r + c) or (next_r - next_c) == (r - c):\n",
        "                        to_remove.add(next_r)\n",
        "                domains[next_c] -= to_remove # removing the invalid values from domain\n",
        "\n",
        "                if not domains[next_c]:  # if the next domain becomes empty, no need to check others\n",
        "                    domain_pruned = False\n",
        "                    break\n",
        "\n",
        "\n",
        "            if domain_pruned:\n",
        "                 backtrack(c+1, domains)\n",
        "\n",
        "            # 1- domains and sets need to be cleared if a solution isnt found\n",
        "            # 2- domains and sets need to be cleared for future use\n",
        "            domains.clear()\n",
        "            domains.update(copy_of_domains)\n",
        "            row.remove(r)\n",
        "            posDiag.remove(r+c)\n",
        "            negDiag.remove(r-c)\n",
        "            board[r][c] = '.'\n",
        "\n",
        "\n",
        "\n",
        "    backtrack(0, initial_domains)\n",
        "    print(\"Total steps:\", steps)\n",
        "    return res\n",
        "\n",
        "n = int(input(\"Enter the number of queens!\"))\n",
        "solution = solveQueens(n)\n",
        "print(f\"Number of solutions: {len(solution)}\")\n",
        "start_time = time.time()\n",
        "end_time = time.time()\n",
        "print(f\"Execution time: {end_time - start_time:.6f} seconds\")\n",
        "print(solution)"
      ],
      "metadata": {
        "id": "k1qApZiUp1WA"
      },
      "execution_count": null,
      "outputs": []
    },
    {
      "cell_type": "code",
      "source": [
        "# visual representation\n",
        "def show_board(solution):\n",
        "  n = len(solution)\n",
        "  board = np.zeros((n,n))\n",
        "  for i in range(n):\n",
        "    j = solution[i].index(\"Q\")\n",
        "    board[i,j] = 1\n",
        "  fig, ax = plt.subplots()\n",
        "  ax.matshow(np.zeros((n, n)), cmap='binary')\n",
        "\n",
        "    # Draw queens\n",
        "  for i in range(n):\n",
        "        for j in range(n):\n",
        "            color = 'Q' if board[i, j] == 1 else '.'\n",
        "            ax.text(j, i, color, ha='center', va='center', fontsize=20)\n",
        "\n",
        "  ax.set_xticks([])\n",
        "  ax.set_yticks([])\n",
        "  plt.show()\n",
        "solution = solveQueens(n)\n",
        "show_board(solution[0])"
      ],
      "metadata": {
        "id": "MoyNf-vbp3uN"
      },
      "execution_count": null,
      "outputs": []
    }
  ]
}